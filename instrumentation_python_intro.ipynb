{
 "cells": [
  {
   "cell_type": "markdown",
   "metadata": {},
   "source": [
    "# Instrumentation and Control: Intro to Python Programming \n",
    "## Wednesday November 28th, 2018\n",
    "### Created by Amanda Boatswain Jacques"
   ]
  },
  {
   "cell_type": "markdown",
   "metadata": {},
   "source": [
    "## Python Basics"
   ]
  },
  {
   "cell_type": "markdown",
   "metadata": {},
   "source": [
    "### Printing to the screen:"
   ]
  },
  {
   "cell_type": "code",
   "execution_count": 1,
   "metadata": {},
   "outputs": [
    {
     "name": "stdout",
     "output_type": "stream",
     "text": [
      "Hello\n",
      "World!\n"
     ]
    }
   ],
   "source": [
    "## Printing to the screen\n",
    "print('Hello')\n",
    "print('World!')"
   ]
  },
  {
   "cell_type": "markdown",
   "metadata": {},
   "source": [
    "### Creating numerical variables: "
   ]
  },
  {
   "cell_type": "markdown",
   "metadata": {},
   "source": [
    "You can also print a string then variable using:"
   ]
  },
  {
   "cell_type": "code",
   "execution_count": 2,
   "metadata": {},
   "outputs": [
    {
     "name": "stdout",
     "output_type": "stream",
     "text": [
      "some introductory string:  3\n"
     ]
    }
   ],
   "source": [
    "print(\"some introductory string: \", 3) "
   ]
  },
  {
   "cell_type": "markdown",
   "metadata": {},
   "source": [
    "###  Simple numerical operations:\n",
    "\"\"(*) Means multiply, (/) means divide, (+) means to add, (-) means substract, etc. \"\""
   ]
  },
  {
   "cell_type": "code",
   "execution_count": 3,
   "metadata": {},
   "outputs": [
    {
     "name": "stdout",
     "output_type": "stream",
     "text": [
      "2+2 = 4\n",
      "3*7 = 21\n",
      "30-2 = 28\n"
     ]
    }
   ],
   "source": [
    "print(\"2+2 =\", 2+2)\n",
    "print(\"3*7 =\", 3*7)\n",
    "print(\"30-2 =\", 30-2)"
   ]
  },
  {
   "cell_type": "markdown",
   "metadata": {},
   "source": [
    "More examples:"
   ]
  },
  {
   "cell_type": "code",
   "execution_count": 4,
   "metadata": {},
   "outputs": [
    {
     "name": "stdout",
     "output_type": "stream",
     "text": [
      "a = 9/5\n",
      "b = 41.0\n",
      "c = 30.985\n",
      "datatype of c: \n",
      "<class 'float'>\n",
      "e =  2\n",
      "d =  1\n"
     ]
    }
   ],
   "source": [
    "a = 9/5 \n",
    "print(\"a = 9/5\")\n",
    "\n",
    "# use variable a in an operation\n",
    "b = 20*a + 5\n",
    "print('b =', b)\n",
    "\n",
    "# c is a floating point variable \n",
    "c = 30.985 \n",
    "print(\"c = 30.985\")\n",
    "print('datatype of c: ')\n",
    "print (type(c))\n",
    "\n",
    "# We can also assign multiple variables at once\n",
    "d, e, f = 1, 2, 3\n",
    "print('e = ', e)\n",
    "print('d = ', d)"
   ]
  },
  {
   "cell_type": "markdown",
   "metadata": {},
   "source": [
    "## Other types of variables: \n"
   ]
  },
  {
   "cell_type": "markdown",
   "metadata": {},
   "source": [
    "### Strings "
   ]
  },
  {
   "cell_type": "code",
   "execution_count": 5,
   "metadata": {},
   "outputs": [
    {
     "name": "stdout",
     "output_type": "stream",
     "text": [
      "item name: Raspberry Pi\n",
      "Number of letters: 12\n",
      "R\n",
      "Raspberry \n"
     ]
    }
   ],
   "source": [
    "## Creating strings\n",
    "item_name = \"Raspberry Pi\"\n",
    "print('item name:', item_name)\n",
    "\n",
    "# Returns the number of characters in the string \n",
    "print(\"Number of letters:\", len(item_name)) \n",
    "\n",
    "# Find character in a particular place of the string\n",
    "print(item_name[0]) \n",
    "\n",
    "# Find slice within the string\n",
    "first_word = item_name[0:10]\n",
    "print(first_word)"
   ]
  },
  {
   "cell_type": "markdown",
   "metadata": {},
   "source": [
    "#### Adding strings together "
   ]
  },
  {
   "cell_type": "code",
   "execution_count": 6,
   "metadata": {},
   "outputs": [
    {
     "name": "stdout",
     "output_type": "stream",
     "text": [
      "ABA\n"
     ]
    }
   ],
   "source": [
    "a = 'A'\n",
    "b = 'B'\n",
    "\n",
    "# Note that there are no spaces when characters are added together \n",
    "print(a+b+a)  "
   ]
  },
  {
   "cell_type": "markdown",
   "metadata": {},
   "source": [
    "###  Lists "
   ]
  },
  {
   "cell_type": "markdown",
   "metadata": {},
   "source": [
    "#### Creating and manipulating lists:"
   ]
  },
  {
   "cell_type": "code",
   "execution_count": 7,
   "metadata": {},
   "outputs": [
    {
     "name": "stdout",
     "output_type": "stream",
     "text": [
      "Numbers in list:  5\n",
      "[67, 34, 51, 123, 10]\n",
      " \n"
     ]
    }
   ],
   "source": [
    "numbers = [67, 34, 51, 123, 10]\n",
    "print('Numbers in list: ', len(numbers))\n",
    "print(numbers)\n",
    "print(' ')"
   ]
  },
  {
   "cell_type": "markdown",
   "metadata": {},
   "source": [
    "#### Extracting a single item from a list: "
   ]
  },
  {
   "cell_type": "code",
   "execution_count": 8,
   "metadata": {},
   "outputs": [
    {
     "name": "stdout",
     "output_type": "stream",
     "text": [
      "First number: \n",
      "67\n"
     ]
    }
   ],
   "source": [
    "print('First number: ')\n",
    "print(numbers[0])"
   ]
  },
  {
   "cell_type": "markdown",
   "metadata": {},
   "source": [
    "#### You can also find the position of a value in the list: "
   ]
  },
  {
   "cell_type": "code",
   "execution_count": 9,
   "metadata": {},
   "outputs": [
    {
     "name": "stdout",
     "output_type": "stream",
     "text": [
      "Pos of 51: \n",
      "2\n"
     ]
    }
   ],
   "source": [
    "print('Pos of 51: ')\n",
    "print(numbers.index(51))"
   ]
  },
  {
   "cell_type": "markdown",
   "metadata": {},
   "source": [
    "#### Extracting a section of a list: "
   ]
  },
  {
   "cell_type": "code",
   "execution_count": 10,
   "metadata": {},
   "outputs": [
    {
     "name": "stdout",
     "output_type": "stream",
     "text": [
      "First 3 numbers: \n",
      "[67, 34, 51]\n",
      " \n"
     ]
    }
   ],
   "source": [
    "print('First 3 numbers: ')\n",
    "print(numbers[0:3])\n",
    "print(' ')"
   ]
  },
  {
   "cell_type": "markdown",
   "metadata": {},
   "source": [
    "#### Change a value in the list:"
   ]
  },
  {
   "cell_type": "code",
   "execution_count": 11,
   "metadata": {},
   "outputs": [
    {
     "name": "stdout",
     "output_type": "stream",
     "text": [
      "Third value changed: \n",
      "[67, 34, 1, 123, 10]\n",
      " \n"
     ]
    }
   ],
   "source": [
    "numbers[2] = 1\n",
    "print('Third value changed: ')\n",
    "print(numbers)\n",
    "print(' ')"
   ]
  },
  {
   "cell_type": "markdown",
   "metadata": {},
   "source": [
    "#### Remove a value from the list:"
   ]
  },
  {
   "cell_type": "code",
   "execution_count": 12,
   "metadata": {},
   "outputs": [
    {
     "name": "stdout",
     "output_type": "stream",
     "text": [
      "First number removed: \n",
      "[67, 34, 1, 123]\n",
      " \n"
     ]
    }
   ],
   "source": [
    "# default is the last number in the list \n",
    "numbers.pop() \n",
    "print('First number removed: ')\n",
    "print(numbers)\n",
    "print(' ')"
   ]
  },
  {
   "cell_type": "code",
   "execution_count": 13,
   "metadata": {},
   "outputs": [
    {
     "name": "stdout",
     "output_type": "stream",
     "text": [
      "Third number removed: \n",
      "[67, 34, 123]\n",
      " \n"
     ]
    }
   ],
   "source": [
    "print('Third number removed: ')\n",
    "numbers.pop(2)\n",
    "print(numbers)\n",
    "print(' ')"
   ]
  },
  {
   "cell_type": "markdown",
   "metadata": {},
   "source": [
    "#### Sort the values:"
   ]
  },
  {
   "cell_type": "code",
   "execution_count": 14,
   "metadata": {},
   "outputs": [
    {
     "name": "stdout",
     "output_type": "stream",
     "text": [
      "Sorted numbers: \n",
      "[34, 67, 123]\n",
      " \n",
      "Sorted in reverse order:\n",
      "[123, 67, 34]\n",
      " \n"
     ]
    }
   ],
   "source": [
    "numbers.sort()\n",
    "print('Sorted numbers: ')\n",
    "print(numbers)\n",
    "print(' ')\n",
    "\n",
    "numbers.sort(reverse = True)\n",
    "print(\"Sorted in reverse order:\")\n",
    "print(numbers)\n",
    "print(' ')\n"
   ]
  },
  {
   "cell_type": "markdown",
   "metadata": {},
   "source": [
    "#### Insert a new value: "
   ]
  },
  {
   "cell_type": "code",
   "execution_count": 15,
   "metadata": {},
   "outputs": [
    {
     "name": "stdout",
     "output_type": "stream",
     "text": [
      "[123, 67, 34]\n",
      " \n"
     ]
    }
   ],
   "source": [
    "# Arguments are position of insertion and new value \n",
    "print(numbers)\n",
    "numbers.insert(1, 66) \n",
    "print(' ')"
   ]
  },
  {
   "cell_type": "markdown",
   "metadata": {},
   "source": [
    "### Dictionnaries "
   ]
  },
  {
   "cell_type": "markdown",
   "metadata": {},
   "source": [
    "#### Creating a dictionnary:"
   ]
  },
  {
   "cell_type": "code",
   "execution_count": 16,
   "metadata": {},
   "outputs": [
    {
     "name": "stdout",
     "output_type": "stream",
     "text": [
      "Penny's age: \n",
      "7\n",
      "Updated ages: \n",
      "{'Alex': 10, 'Penny': 8, 'Cynthia': 3}\n"
     ]
    }
   ],
   "source": [
    "ages = {'Penny': 7, 'Alex': 10, 'Cynthia': 3}\n",
    "print(\"Penny's age: \")\n",
    "print(ages['Penny']) \n",
    "\n",
    "# Let's say it was Penny's birthday yesterday \n",
    "ages['Penny'] = 8 \n",
    "print('Updated ages: ')\n",
    "\n",
    "# Let's say it was Penny's birthday yesterday \n",
    "print(ages) "
   ]
  },
  {
   "cell_type": "markdown",
   "metadata": {},
   "source": [
    "### Loops, Logicals and Functions "
   ]
  },
  {
   "cell_type": "markdown",
   "metadata": {},
   "source": [
    "#### For Loops:"
   ]
  },
  {
   "cell_type": "code",
   "execution_count": 17,
   "metadata": {},
   "outputs": [
    {
     "name": "stdout",
     "output_type": "stream",
     "text": [
      "x = \n",
      "0\n",
      "x = \n",
      "1\n",
      "x = \n",
      "2\n",
      "x = \n",
      "3\n",
      "x = \n",
      "4\n",
      "x = \n",
      "5\n",
      "x = \n",
      "6\n",
      "x = \n",
      "7\n",
      "x = \n",
      "8\n",
      "x = \n",
      "9\n",
      "x = \n",
      "10\n"
     ]
    }
   ],
   "source": [
    "# import the random library \n",
    "import random  \n",
    "for x in range(0, 11):\n",
    "    print('x = ')\n",
    "    print(x)"
   ]
  },
  {
   "cell_type": "code",
   "execution_count": 18,
   "metadata": {},
   "outputs": [
    {
     "name": "stdout",
     "output_type": "stream",
     "text": [
      "random number = \n",
      "3\n",
      "random number = \n",
      "1\n",
      "random number = \n",
      "5\n",
      "random number = \n",
      "3\n",
      "random number = \n",
      "1\n",
      "random number = \n",
      "2\n"
     ]
    }
   ],
   "source": [
    "for a in range(0,6): \n",
    "    # get a random integer between 1 and 6\n",
    "    random_number = random.randint(1,6) \n",
    "    print('random number = ')\n",
    "    print(random_number)"
   ]
  },
  {
   "cell_type": "markdown",
   "metadata": {},
   "source": [
    "#### Using logical statements: "
   ]
  },
  {
   "cell_type": "code",
   "execution_count": 19,
   "metadata": {},
   "outputs": [
    {
     "name": "stdout",
     "output_type": "stream",
     "text": [
      "Is 10 greater than 9? \n",
      "True\n",
      "k is small\n"
     ]
    }
   ],
   "source": [
    "# Boolean variables\n",
    "print('Is 10 greater than 9? ')\n",
    "\n",
    "# Returns a \"True\" value\n",
    "print(10 > 9) \n",
    "\n",
    "k = 7 \n",
    "\n",
    "# Will check if this condition is true \n",
    "if k > 9: \n",
    "    print('k is large')\n",
    "    \n",
    "    # Else if (adds multiple cases)\n",
    "elif k > 7: \n",
    "    print('k is fairly large')\n",
    "else: \n",
    "    print('k is small')\n",
    "    \n",
    "# Try changing the value of k and see what prints next!"
   ]
  },
  {
   "cell_type": "markdown",
   "metadata": {},
   "source": [
    "### Dice Throwing Games"
   ]
  },
  {
   "cell_type": "markdown",
   "metadata": {},
   "source": [
    "####  Dice Throwing using \"if\" statements \n",
    "(Taken from Programming the Raspberry Pi by Simon Monk)"
   ]
  },
  {
   "cell_type": "code",
   "execution_count": 1,
   "metadata": {},
   "outputs": [
    {
     "name": "stdout",
     "output_type": "stream",
     "text": [
      "5\n",
      "3\n",
      "12\n",
      "Double thrown!\n",
      "3\n",
      "6\n",
      "4\n",
      "9\n",
      "10\n",
      "5\n",
      "7\n",
      "Seven thrown!\n",
      "Dice Throwing Over!\n"
     ]
    }
   ],
   "source": [
    "import random \n",
    "import time \n",
    "for x in range (1, 11):\n",
    "    # choose a random integer between 1 and 6 \n",
    "    throw1 = random.randint(1,6) \n",
    "    throw2 = random.randint(1,6)\n",
    "    total = throw1 + throw2\n",
    "    \n",
    "    # Will wait two seconds \n",
    "    time.sleep(2) \n",
    "    print(total)\n",
    "    \n",
    "    if total == 7:\n",
    "        print('Seven thrown!')\n",
    "    if total == 11:\n",
    "        print('Eleven thrown!')\n",
    "    if throw1 == throw2:\n",
    "        print('Double thrown!')\n",
    "        \n",
    "print('Dice Throwing Over!')"
   ]
  },
  {
   "cell_type": "markdown",
   "metadata": {},
   "source": [
    "#### Dice Throwing using a \"while\" Loop"
   ]
  },
  {
   "cell_type": "code",
   "execution_count": 21,
   "metadata": {},
   "outputs": [
    {
     "name": "stdout",
     "output_type": "stream",
     "text": [
      "5\n",
      "5\n",
      "7\n",
      "11\n",
      "7\n",
      "3\n",
      "8\n",
      "2\n",
      "10\n",
      "4\n",
      "6\n",
      "8\n",
      "6\n",
      "11\n",
      "5\n",
      "7\n",
      "7\n",
      "5\n",
      "8\n",
      "9\n",
      "7\n",
      "5\n",
      "6\n",
      "10\n",
      "6\n",
      "5\n",
      "6\n",
      "8\n",
      "7\n",
      "8\n",
      "7\n",
      "5\n",
      "3\n",
      "5\n",
      "10\n",
      "10\n",
      "9\n",
      "5\n",
      "12\n",
      "Double Six Thrown!\n",
      "Dice Throwing Over!\n"
     ]
    }
   ],
   "source": [
    "import random \n",
    "\n",
    "while True: \n",
    "    # choose a random integer between 1 and 6 \n",
    "    throw1 = random.randint(1,6) \n",
    "    throw2 = random.randint(1,6)\n",
    "    total = throw1 + throw2\n",
    "    \n",
    "    # Will wait two seconds \n",
    "    #time.sleep(2)  \n",
    "    print(total)\n",
    "    \n",
    "    if (throw1 == 6 and throw2 == 6): \n",
    "        # Will break out of the loop when a double six is thrown \n",
    "        break  \n",
    "print('Double Six Thrown!')\n",
    "print('Dice Throwing Over!')\n"
   ]
  },
  {
   "cell_type": "markdown",
   "metadata": {},
   "source": [
    "## Plotting and Using Figures "
   ]
  },
  {
   "cell_type": "markdown",
   "metadata": {},
   "source": [
    "### Learning to plot with matplotlib"
   ]
  },
  {
   "cell_type": "code",
   "execution_count": 22,
   "metadata": {},
   "outputs": [
    {
     "data": {
      "image/png": "[encoded data removed]",
      "text/plain": [
       "<Figure size 432x288 with 1 Axes>"
      ]
     },
     "metadata": {
      "needs_background": "light"
     },
     "output_type": "display_data"
    }
   ],
   "source": [
    "%matplotlib inline\n",
    "import matplotlib.pyplot as plt\n",
    "\n",
    "plt.plot([1,2,3,4])\n",
    "plt.ylabel('some numbers')\n",
    "plt.show()"
   ]
  },
  {
   "cell_type": "markdown",
   "metadata": {},
   "source": [
    "You may be wondering why the x-axis ranges from 0-3 and the y-axis from 1-4. \n",
    "If you provide a single list or array to the plot() command, matplotlib assumes \n",
    "it is a sequence of y values, and automatically generates the x values for you. \n",
    "Since python ranges start with 0, the default x vector has the same length as \n",
    "y but starts with 0. Hence the x data are [0,1,2,3]."
   ]
  },
  {
   "cell_type": "markdown",
   "metadata": {},
   "source": [
    "#### Changing the plot style "
   ]
  },
  {
   "cell_type": "code",
   "execution_count": 23,
   "metadata": {},
   "outputs": [
    {
     "data": {
      "image/png": "[encoded data removed]",
      "text/plain": [
       "<Figure size 432x288 with 1 Axes>"
      ]
     },
     "metadata": {
      "needs_background": "light"
     },
     "output_type": "display_data"
    }
   ],
   "source": [
    "%matplotlib inline \n",
    "import matplotlib.pyplot as plt\n",
    "\n",
    "plt.plot([1,2,3,4], [1,4,9,16], 'ro') \n",
    "plt.axis([0, 6, 0, 20])\n",
    "plt.show()"
   ]
  },
  {
   "cell_type": "markdown",
   "metadata": {},
   "source": [
    "Plot x versus y with red dots. The default format string is ‘b-‘, which is a solid blue line. \n",
    "For example, to plot the above with black stars, you would issue:"
   ]
  },
  {
   "cell_type": "code",
   "execution_count": 24,
   "metadata": {},
   "outputs": [
    {
     "data": {
      "image/png": "[encoded data removed]",
      "text/plain": [
       "<Figure size 432x288 with 1 Axes>"
      ]
     },
     "metadata": {
      "needs_background": "light"
     },
     "output_type": "display_data"
    }
   ],
   "source": [
    "# plot black stars\n",
    "plt.plot([1,2,3,4], [1,4,9,16], 'k*') \n",
    "\n",
    "plt.axis([0, 6, 0, 20])\n",
    "plt.show()"
   ]
  },
  {
   "cell_type": "markdown",
   "metadata": {},
   "source": [
    "#### Plotting multiple functions on the same figure"
   ]
  },
  {
   "cell_type": "code",
   "execution_count": 25,
   "metadata": {},
   "outputs": [
    {
     "data": {
      "image/png": "[encoded data removed]",
      "text/plain": [
       "<Figure size 432x288 with 1 Axes>"
      ]
     },
     "metadata": {
      "needs_background": "light"
     },
     "output_type": "display_data"
    }
   ],
   "source": [
    "%matplotlib inline\n",
    "import numpy as np\n",
    "import matplotlib.pyplot as plt\n",
    "\n",
    "# evenly sampled time at 200ms intervals\n",
    "t = np.arange(0., 5., 0.2)\n",
    "\n",
    "# red dashes, blue squares and green triangles\n",
    "plt.plot(t, t, 'r--', t, t**2, 'bs', t, t**3, 'g^')\n",
    "plt.show()"
   ]
  },
  {
   "cell_type": "markdown",
   "metadata": {},
   "source": [
    "#### Working with multiple figures and axes"
   ]
  },
  {
   "cell_type": "code",
   "execution_count": 26,
   "metadata": {},
   "outputs": [
    {
     "data": {
      "image/png": "[encoded data removed]",
      "text/plain": [
       "<Figure size 432x288 with 2 Axes>"
      ]
     },
     "metadata": {
      "needs_background": "light"
     },
     "output_type": "display_data"
    }
   ],
   "source": [
    "%matplotlib inline\n",
    "import numpy as np\n",
    "import matplotlib.pyplot as plt\n",
    "\n",
    "# Define a function f(t)\n",
    "def f(t):\n",
    "    return np.exp(-t) * np.cos(2*np.pi*t)\n",
    "\n",
    "t1 = np.arange(0.0, 5.0, 0.1)\n",
    "t2 = np.arange(0.0, 5.0, 0.02)\n",
    "\n",
    "# using subplot - divides the plot are into two rows, one colum (21)\n",
    "\n",
    "plt.figure(1)\n",
    "plt.subplot(211)\n",
    "plt.plot(t1, f(t1), 'bo', t2, f(t2), 'k')\n",
    "\n",
    "plt.subplot(212)\n",
    "plt.plot(t2, np.cos(2*np.pi*t2), 'r--')\n",
    "plt.show()"
   ]
  },
  {
   "cell_type": "markdown",
   "metadata": {},
   "source": [
    "#### Plotting a histogram and adding text "
   ]
  },
  {
   "cell_type": "code",
   "execution_count": 27,
   "metadata": {},
   "outputs": [
    {
     "data": {
      "image/png": "[encoded data removed]",
      "text/plain": [
       "<Figure size 432x288 with 1 Axes>"
      ]
     },
     "metadata": {
      "needs_background": "light"
     },
     "output_type": "display_data"
    }
   ],
   "source": [
    "%matplotlib inline\n",
    "import random \n",
    "import matplotlib.pyplot as plt\n",
    "\n",
    "# Fixing random state for reproducibility\n",
    "np.random.seed(19680801)\n",
    "\n",
    "# assign a mean (mu) and standard variation (sigma)\n",
    "mu, sigma = 100, 15\n",
    "x = mu + sigma * np.random.randn(10000)\n",
    "\n",
    "# the histogram of the data\n",
    "n, bins, patches = plt.hist(x, bins = 50, density=1, facecolor='g', alpha=0.75)\n",
    "\n",
    "plt.xlabel('Smarts')\n",
    "plt.ylabel('Probability')\n",
    "plt.title('Histogram of IQ')\n",
    "plt.text(60, .025, r'$\\mu=100,\\ \\sigma=15$')\n",
    "plt.axis([40, 160, 0, 0.03])\n",
    "plt.grid(True)\n",
    "plt.show()"
   ]
  },
  {
   "cell_type": "markdown",
   "metadata": {},
   "source": [
    "## Putting it all Together: Hangman Game! "
   ]
  },
  {
   "cell_type": "markdown",
   "metadata": {},
   "source": [
    "### Let's create a Hangman Game using functions. \n",
    "\n",
    "##### (Taken from Programming the Raspberry Pi by Simon Monk.)  "
   ]
  },
  {
   "cell_type": "code",
   "execution_count": null,
   "metadata": {},
   "outputs": [
    {
     "name": "stdout",
     "output_type": "stream",
     "text": [
      " -----\n",
      "Lives remaining: 14\n"
     ]
    }
   ],
   "source": [
    "import random \n",
    "\n",
    "# Create a list of words\n",
    "words = ['dog', 'cat', 'mouse', 'frog', 'chicken', 'snake'] \n",
    "lives_remaining = 14\n",
    "guessed_letters = ' '\n",
    "\n",
    "# Define the play game function \n",
    "def play(): \n",
    "    word = pick_a_word()\n",
    "    while True:  \n",
    "        # While loop will continue until the word is guessed or there are not more lives left\n",
    "        guess = get_guess(word)\n",
    "        if process_guess(guess, word):\n",
    "            print('You win!')\n",
    "            break\n",
    "        if lives_remaining == 0: \n",
    "            print('You are hung! :( ')\n",
    "            print('The word was: ' + word)\n",
    "            break \n",
    "            \n",
    "# Now let's write up the individual functions that will create our game.\n",
    "            \n",
    "# Picks a word from the list at random      \n",
    "def pick_a_word(): \n",
    "    return random.choice(words) \n",
    "\n",
    "def get_guess(word):\n",
    "    print_word_with_blanks(word)\n",
    "    print('Lives remaining: ' + str(lives_remaining))\n",
    "    \n",
    "    # Prompts the user for a letter \n",
    "    guess = input('Guess a letter or whole word? ') \n",
    "    return guess\n",
    "\n",
    "def print_word_with_blanks(word):\n",
    "    display_word = ' '\n",
    "    for letter in word:\n",
    "        if guessed_letters.find(letter) > -1:\n",
    "            # Letter found\n",
    "            \n",
    "            # Everytime a letter is properly guessed, it gets added to this string \n",
    "            display_word = display_word + letter \n",
    "        else: \n",
    "            # Letter not found\n",
    "            display_word = display_word + '-'\n",
    "    print(display_word)\n",
    "\n",
    "def process_guess(guess, word):\n",
    "    # If there is more than 1 letter, we assume it's a whole word guess \n",
    "    if len(guess) > 1: \n",
    "        return whole_word_guess(guess, word)\n",
    "    else: \n",
    "        return single_letter_guess(guess, word)\n",
    "\n",
    "def whole_word_guess(guess, word):\n",
    "    global lives_remaining \n",
    "    # Make sure the word/guesses are lowercase \n",
    "    if guess.lower() == word.lower(): \n",
    "        return True\n",
    "    else: \n",
    "        lives_remaining = lives_remaining -1 \n",
    "        return False \n",
    "\n",
    "def single_letter_guess(guess, word):\n",
    "    global guessed_letters\n",
    "    global lives_remaining\n",
    "    \n",
    "    # search in the word variable for the guessed letter provided by the user \n",
    "    if (word.find(guess) == -1):\n",
    "        # the letter was incorrect\n",
    "        lives_remaining = lives_remaining - 1\n",
    "        \n",
    "    guessed_letters = guessed_letters + guess\n",
    "    if all_letters_guessed(word):\n",
    "        return True\n",
    "    return False\n",
    "\n",
    "def all_letters_guessed(word):\n",
    "    for letter in word:\n",
    "        # Searches through all the letters to see if they were all found \n",
    "        if (guessed_letters.find(letter) == -1):\n",
    "            return False \n",
    "    return True \n",
    "\n",
    "play()"
   ]
  },
  {
   "cell_type": "code",
   "execution_count": null,
   "metadata": {},
   "outputs": [],
   "source": []
  }
 ],
 "metadata": {
  "kernelspec": {
   "display_name": "Python 3",
   "language": "python",
   "name": "python3"
  },
  "language_info": {
   "codemirror_mode": {
    "name": "ipython",
    "version": 3
   },
   "file_extension": ".py",
   "mimetype": "text/x-python",
   "name": "python",
   "nbconvert_exporter": "python",
   "pygments_lexer": "ipython3",
   "version": "3.6.8"
  }
 },
 "nbformat": 4,
 "nbformat_minor": 2
}
