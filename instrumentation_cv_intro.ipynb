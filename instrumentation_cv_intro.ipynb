{
 "cells": [
  {
   "cell_type": "markdown",
   "metadata": {},
   "source": [
    "# Instrumentation and Control: Intro to Computer Vision \n",
    "## Wednesday November 28th, 2018\n",
    "### Created by Amanda Boatswain Jacques (code modified from PyimageSearch Gurus) "
   ]
  },
  {
   "cell_type": "markdown",
   "metadata": {},
   "source": [
    "## Introduction \n",
    "\n",
    "We'll write a simple super fast object tracking that can run in real time, easily obtaining 32+ FPS on modern hardware systems.\n",
    "We are going to focus on how to detect and track objects of different color in an image. We will try to track a green ball and and blue colored ball. "
   ]
  },
  {
   "cell_type": "markdown",
   "metadata": {},
   "source": [
    "### Import Library Packages \n",
    "\n",
    "Among the various packages we will be using OpenCV, which is a free computer vision and image processing package, and imutils, a package of helper functions for handling images. \n",
    "\n",
    "##### (Fun fact: The imutils package was developed by the creator of this tutorial!)"
   ]
  },
  {
   "cell_type": "code",
   "execution_count": 2,
   "metadata": {},
   "outputs": [],
   "source": [
    "# import the necessary packages\n",
    "import imutils\n",
    "import os \n",
    "import cv2"
   ]
  },
  {
   "cell_type": "markdown",
   "metadata": {},
   "source": [
    "##  Color Segmentation \n",
    "\n",
    "We are going to perform a process called color-segmentation. In short, we are going to manipulate an image in a way where pixels of a given color will be turned on, while others will be turned off. We will be using the HSV (Hue-Saturation-Value) color space. "
   ]
  },
  {
   "cell_type": "code",
   "execution_count": 3,
   "metadata": {},
   "outputs": [],
   "source": [
    "# define the color ranges for green and blue \n",
    "colorRanges = [ \n",
    "    ((29, 86, 6), (64, 255, 255), \"green\"),\n",
    "    ((57, 68, 0), (151, 255, 255), \"blue\")]\n"
   ]
  },
  {
   "cell_type": "markdown",
   "metadata": {},
   "source": [
    "## Grab Image Data \n",
    "\n",
    "We will search through a folder of images with the balls in them and try to locate and track them. We can see the list of images by printing them below: "
   ]
  },
  {
   "cell_type": "code",
   "execution_count": 4,
   "metadata": {},
   "outputs": [],
   "source": [
    "directory = \"./object_tracking/ball_pictures/\""
   ]
  },
  {
   "cell_type": "markdown",
   "metadata": {},
   "source": [
    "## Image Preprocessing \n",
    "\n",
    "Next we are going to read each image in the folder and apply some image processing techniques to find the balls. \n",
    "These include: \n",
    "* Conversion to the HSV color space\n",
    "* Blur the image a bit to even out the pixels (noise removal)\n",
    "* Erosion and dilation which help to remove small blobs in the mask \n",
    "\n",
    "We can see what each of these operations do by using a sample image. "
   ]
  },
  {
   "cell_type": "code",
   "execution_count": null,
   "metadata": {},
   "outputs": [],
   "source": [
    "imgpath =  directory + \"/ball_2452.jpg\"\n",
    "image = cv2.imread(imgpath)\n",
    "\n",
    "# blur the frame and convert it to the HSV color space\n",
    "blurred = cv2.GaussianBlur(image, (11, 11), 0)\n",
    "hsv = cv2.cvtColor(blurred, cv2.COLOR_BGR2HSV)\n",
    "\n",
    "cv2.imshow(\"Original Image\", image)\n",
    "cv2.imshow(\"Blurred\", blurred)\n",
    "cv2.imshow(\"HSV\", hsv)\n",
    "\n",
    "# wait until window is closed \n",
    "cv2.waitKey(10000) \n",
    "cv2.destroyAllWindows()"
   ]
  },
  {
   "cell_type": "markdown",
   "metadata": {},
   "source": [
    "## Thresholding \n",
    "\n",
    "Now let's see the results of the color segmentation and erosion/dilation. "
   ]
  },
  {
   "cell_type": "code",
   "execution_count": null,
   "metadata": {},
   "outputs": [],
   "source": [
    "imgpath =  directory + \"/ball_2452.jpg\"\n",
    "image = cv2.imread(imgpath)\n",
    "\n",
    "# blur the frame and convert it to the HSV color space\n",
    "blurred = cv2.GaussianBlur(image, (11, 11), 0)\n",
    "hsv = cv2.cvtColor(blurred, cv2.COLOR_BGR2HSV)\n",
    "\n",
    "# loop over the color ranges\n",
    "for (lower, upper, colorName) in colorRanges:\n",
    "    # construct a mask for all colors in the current HSV range, then\n",
    "    # perform a series of dilations and erosions to remove any small\n",
    "    # blobs left in the mask\n",
    "    mask = cv2.inRange(hsv, lower, upper)\n",
    "    \n",
    "    # we can adjust the number of dilations to see the difference \n",
    "    mask = cv2.erode(mask, None, iterations=2)\n",
    "    mask = cv2.dilate(mask, None, iterations=2)\n",
    "    \n",
    "    print(\"Currently evaluating %s mask.\" %colorName)\n",
    "    cv2.imshow(\"Original Image\", image)\n",
    "    cv2.imshow(\"Masked\", mask)\n",
    "    \n",
    "    # wait until window is closed \n",
    "    cv2.waitKey(5000) \n",
    "cv2.destroyAllWindows()"
   ]
  },
  {
   "cell_type": "markdown",
   "metadata": {},
   "source": [
    "Looks good!  Now we can do the same thing with the entire dataset. \n",
    "\n",
    "## Final Results \n",
    "\n",
    "We are then going to find the contours of the balls using some handy functions in OpenCV and then track them using a circle that we will draw directly on the image. "
   ]
  },
  {
   "cell_type": "code",
   "execution_count": 5,
   "metadata": {},
   "outputs": [],
   "source": [
    "# loop through all the images in the working directory \n",
    "for root, dirs, filenames in os.walk(directory):\n",
    "    for i, file in enumerate(filenames):\n",
    "        imgpath = os.path.join(root,file) # Reconstructs the file path using\n",
    "        # the root_directory and current filename\n",
    "        \n",
    "        frame = cv2.imread(imgpath)\n",
    "        # resize the frame, blur it, and convert it to the HSV color space\n",
    "        frame = imutils.resize(frame, width=600)\n",
    "        blurred = cv2.GaussianBlur(frame, (11, 11), 0)\n",
    "        hsv = cv2.cvtColor(frame, cv2.COLOR_BGR2HSV)\n",
    "        \n",
    "        # loop over the color ranges\n",
    "        for (lower, upper, colorName) in colorRanges:\n",
    "            # construct a mask for all colors in the current HSV range, then\n",
    "            # perform a series of dilations and erosions to remove any small\n",
    "            # blobs left in the mask\n",
    "            mask = cv2.inRange(hsv, lower, upper)\n",
    "            mask = cv2.erode(mask, None, iterations=2)\n",
    "            mask = cv2.dilate(mask, None, iterations=2)\n",
    "            \n",
    "            # find contours in the mask\n",
    "            cnts, hierarchy = cv2.findContours(mask.copy(), cv2.RETR_EXTERNAL,\n",
    "                                    cv2.CHAIN_APPROX_SIMPLE)\n",
    "            #cnts = cnts[0] if imutils.is_cv2() else cnts[1]\n",
    "            \n",
    "            # only proceed if at least one contour was found\n",
    "            if len(cnts) > 0:\n",
    "                # find the largest contour in the mask, then use it to compute\n",
    "                # the minimum enclosing circle and centroid\n",
    "                c = max(cnts, key = cv2.contourArea)\n",
    "                ((x, y), radius) = cv2.minEnclosingCircle(c)\n",
    "                M = cv2.moments(c)\n",
    "                (cX, cY) = (int(M[\"m10\"] / M[\"m00\"]), int(M[\"m01\"] / M[\"m00\"]))\n",
    "                \n",
    "                # only draw the enclosing circle and text if the radious meets\n",
    "                # a minimum size\n",
    "                if radius > 10:\n",
    "                    cv2.circle(frame, (int(x), int(y)), int(radius), (0, 255, 255), 2)\n",
    "                    cv2.putText(frame, colorName, (cX, cY), cv2.FONT_HERSHEY_SIMPLEX,\n",
    "                                1.0, (0, 255, 255), 2)\n",
    "        # show the frame to our screen\n",
    "        cv2.imshow(\"Frame\", frame)\n",
    "        \n",
    "        # wait half a second between frames \n",
    "        cv2.waitKey(500) \n",
    "        \n",
    "cv2.destroyAllWindows()"
   ]
  },
  {
   "cell_type": "code",
   "execution_count": null,
   "metadata": {},
   "outputs": [],
   "source": []
  }
 ],
 "metadata": {
  "kernelspec": {
   "display_name": "Python 3",
   "language": "python",
   "name": "python3"
  },
  "language_info": {
   "codemirror_mode": {
    "name": "ipython",
    "version": 3
   },
   "file_extension": ".py",
   "mimetype": "text/x-python",
   "name": "python",
   "nbconvert_exporter": "python",
   "pygments_lexer": "ipython3",
   "version": "3.6.8"
  }
 },
 "nbformat": 4,
 "nbformat_minor": 2
}
